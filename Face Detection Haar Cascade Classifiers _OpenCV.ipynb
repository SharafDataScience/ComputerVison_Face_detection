{
 "cells": [
  {
   "cell_type": "code",
   "execution_count": 7,
   "id": "7a83edbd-8d49-4fb4-895b-a1513aed25ba",
   "metadata": {
    "collapsed": true,
    "jupyter": {
     "outputs_hidden": true
    }
   },
   "outputs": [],
   "source": [
    "import numpy as np \n",
    "import cv2 \n",
    "import os \n",
    "#os.chdir(r\"D:\\faceeyedetection\")\n",
    "cap =cv2.VideoCapture(0)\n",
    "\n",
    "face_cascade =cv2.CascadeClassifier(\"haarcascade_frontalface_default.xml\")\n",
    "#eyes_cascade =cv2.CascadeClassifier(\"haarcascade_eye.xml\")\n",
    "\n",
    "while(cap.isOpened()):\n",
    "    ret ,frame =cap.read()\n",
    "    \n",
    "    gray =cv2.cvtColor(frame,cv2.COLOR_BGR2GRAY)\n",
    "    \n",
    "    faces =face_cascade.detectMultiScale(gray ,1.3 , 4)\n",
    "    for (x,y,h,w) in faces :\n",
    "        cv2.rectangle(frame ,(x,y),(x+w ,y+h),(0,255,0),3)       \n",
    "        roi_gray=gray[y:y+h ,x:x+w]       \n",
    "        roi_color=frame[y:y+h ,x:x+w]       \n",
    "        eyes =eyes_cascade.detectMultiScale(roi_gray)       \n",
    "        for(ex,ey,eh,ew) in eyes :      \n",
    "            cv2.rectangle(roi_color ,(ex,ey),(ex+ew ,ey+eh),(0,0,255),3)            \n",
    "  \n",
    "    \n",
    "    cv2.imshow(\"frame\" ,frame)\n",
    "    \n",
    "    key =cv2.waitKey(1)\n",
    "    if(key == 27):\n",
    "        break \n",
    "        \n",
    "cap.release()\n",
    "cv2.destroyAllWindows()"
   ]
  },
  {
   "cell_type": "code",
   "execution_count": null,
   "id": "967121f5-c864-459a-bb55-4d3ba117d19a",
   "metadata": {
    "collapsed": true,
    "jupyter": {
     "outputs_hidden": true
    }
   },
   "outputs": [],
   "source": []
  },
  {
   "cell_type": "code",
   "execution_count": null,
   "id": "e756631a-eec9-47a0-86ec-a93d6bc3e18d",
   "metadata": {
    "collapsed": true,
    "jupyter": {
     "outputs_hidden": true
    }
   },
   "outputs": [],
   "source": []
  }
 ],
 "metadata": {
  "kernelspec": {
   "display_name": "Python 3 (ipykernel)",
   "language": "python",
   "name": "python3"
  },
  "language_info": {
   "codemirror_mode": {
    "name": "ipython",
    "version": 3
   },
   "file_extension": ".py",
   "mimetype": "text/x-python",
   "name": "python",
   "nbconvert_exporter": "python",
   "pygments_lexer": "ipython3",
   "version": "3.12.4"
  }
 },
 "nbformat": 4,
 "nbformat_minor": 5
}
